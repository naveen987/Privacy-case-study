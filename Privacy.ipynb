{
  "cells": [
    {
      "cell_type": "code",
      "execution_count": 62,
      "metadata": {
        "colab": {
          "base_uri": "https://localhost:8080/"
        },
        "id": "9M-Mbq3oFjUn",
        "outputId": "54a676b6-66e6-410f-cd8b-3c11948068b7"
      },
      "outputs": [],
      "source": [
        "from langchain import PromptTemplate\n",
        "from langchain.vectorstores import Pinecone\n",
        "import pinecone\n",
        "from langchain.text_splitter import RecursiveCharacterTextSplitter\n",
        "from langchain.prompts import PromptTemplate\n",
        "from langchain.llms import CTransformers"
      ]
    },
    {
      "cell_type": "markdown",
      "metadata": {},
      "source": [
        "- `from langchain import PromptTemplate`: \n",
        "  - Imports the `PromptTemplate` class from the `langchain` library, which is used for creating and managing templates for generating prompts for language models.\n",
        "\n",
        "- `from langchain.vectorstores import Pinecone`: \n",
        "  - Imports the `Pinecone` class from the `vectorstores` module within the `langchain` library, providing an interface to interact with Pinecone's vector database for efficient vector storage and retrieval.\n",
        "\n",
        "- `import pinecone`: \n",
        "  - Imports the `pinecone` library, a vector database service designed for machine learning applications to facilitate scalable and fast search and storage of vector embeddings.\n",
        "\n",
        "- `from langchain.text_splitter import RecursiveCharacterTextSplitter`: \n",
        "  - Imports the `RecursiveCharacterTextSplitter` class from the `text_splitter` module within the `langchain` library, used for splitting texts into smaller segments based on character count in a recursive manner. This is particularly useful for processing large texts that exceed the input limits of language models.\n",
        "\n",
        "- `from langchain.prompts import PromptTemplate` (repeated import): \n",
        "  - This line is a duplicate of the first line and imports the `PromptTemplate` class again. It is redundant and should be removed from the code to avoid unnecessary repetition.\n",
        "\n",
        "- `from langchain.llms import CTransformers`: \n",
        "  - Imports the `CTransformers` class from the `llms` module within the `langchain` library. The `CTransformers` class is designed to work with transformer-based language models, providing functionalities for chaining multiple models or processes together.\n"
      ]
    },
    {
      "cell_type": "code",
      "execution_count": 63,
      "metadata": {
        "id": "VUPf-4Y2FjUp"
      },
      "outputs": [],
      "source": [
        "from dotenv import load_dotenv\n",
        "import os\n",
        "\n",
        "load_dotenv()  # This loads the environment variables from a .env file\n",
        "\n",
        "PINECONE_API_KEY = os.getenv('PINECONE_API_KEY')\n",
        "PINECONE_API_ENV = os.getenv('PINECONE_API_ENV')\n"
      ]
    },
    {
      "cell_type": "markdown",
      "metadata": {},
      "source": [
        "- `from dotenv import load_dotenv`: \n",
        "  - Imports the `load_dotenv` function from the `dotenv` package. This function is used to load environment variables from a `.env` file into the Python script's environment.\n",
        "\n",
        "- `import os`: \n",
        "  - Imports the built-in `os` module, which provides a way of using operating system dependent functionality. The `os` module is commonly used for accessing environment variables, working with file paths, and performing file operations.\n",
        "\n",
        "- `load_dotenv()`: \n",
        "  - Calls the `load_dotenv` function to load the environment variables from a `.env` file located in the same directory as the Python script, or from a custom location if specified. If the `.env` file is not found, this call will fail silently without throwing an error.\n",
        "\n",
        "- `PINECONE_API_KEY = os.getenv('PINECONE_API_KEY')`: \n",
        "  - Retrieves the value of the environment variable `PINECONE_API_KEY` using the `os.getenv` method. The value is stored in the variable `PINECONE_API_KEY`. This environment variable is expected to hold the API key for Pinecone, a vector database service for machine learning applications.\n",
        "\n",
        "- `PINECONE_API_ENV = os.getenv('PINECONE_API_ENV')`: \n",
        "  - Retrieves the value of the environment variable `PINECONE_API_ENV` using the `os.getenv` method. The value is stored in the variable `PINECONE_API_ENV`. This environment variable can be used to specify the environment for the Pinecone service, such as development, testing, or production.\n"
      ]
    },
    {
      "cell_type": "code",
      "execution_count": 64,
      "metadata": {
        "id": "bKa0xsjWFjUp"
      },
      "outputs": [],
      "source": [
        "import pandas as pd\n",
        "def load_csv(file_path):\n",
        "    df = pd.read_csv(file_path)\n",
        "    # Extract the first two columns and concatenate them into a single text string per row\n",
        "    combined_text = df.iloc[:, 0:2].apply(lambda row: ' '.join(row.values.astype(str)), axis=1).tolist()\n",
        "    return combined_text\n"
      ]
    },
    {
      "cell_type": "markdown",
      "metadata": {},
      "source": [
        "- `import pandas as pd`: \n",
        "  - Imports the `pandas` library and aliases it as `pd`. Pandas is a powerful data manipulation and analysis library for Python, commonly used for working with tabular data.\n",
        "\n",
        "- `def load_csv(file_path)`: \n",
        "  - Defines a function `load_csv` that takes a single argument `file_path`. This function is designed to read a CSV file from the specified path.\n",
        "\n",
        "- Inside `load_csv(file_path)`:\n",
        "  - `df = pd.read_csv(file_path)`: \n",
        "    - Reads the CSV file at `file_path` into a pandas DataFrame `df`. A DataFrame is a two-dimensional, size-mutable, and potentially heterogeneous tabular data structure with labeled axes (rows and columns).\n",
        "\n",
        "  - `combined_text = df.iloc[:, 0:2].apply(lambda row: ' '.join(row.values.astype(str)), axis=1).tolist()`:\n",
        "    - `df.iloc[:, 0:2]` selects the first two columns of the DataFrame `df`.\n",
        "    - `.apply(lambda row: ' '.join(row.values.astype(str)), axis=1)` applies a function along the axis=1 (rows) of the DataFrame. This function converts the values of each row in the selected columns to strings, joins them with a space (`' '`) to form a single text string, and is applied to each row in the selected columns.\n",
        "    - `.tolist()` converts the resulting pandas Series of combined text strings into a list, which is then assigned to the variable `combined_text`.\n",
        "\n",
        "- `return combined_text`:\n",
        "  - The function returns `combined_text`, which is a list of strings. Each string in the list corresponds to the combined text of the first two columns for each row in the input CSV file.\n"
      ]
    },
    {
      "cell_type": "code",
      "execution_count": 65,
      "metadata": {
        "id": "Fd4dUVV_FjUp"
      },
      "outputs": [],
      "source": [
        "extracted_pdf=load_csv(\"dataset/audit_data.csv\")"
      ]
    },
    {
      "cell_type": "code",
      "execution_count": 66,
      "metadata": {
        "id": "0n65dIKbFjUq"
      },
      "outputs": [],
      "source": [
        "def text_split(text_list):\n",
        "    text_splitter = RecursiveCharacterTextSplitter(chunk_size=500, chunk_overlap=20)\n",
        "    text_chunks = []\n",
        "    for text in text_list:\n",
        "        chunks = text_splitter.split_text(text)  # Assuming this is the correct method\n",
        "        text_chunks.extend(chunks)\n",
        "    return text_chunks\n"
      ]
    },
    {
      "cell_type": "markdown",
      "metadata": {},
      "source": [
        "- `def text_split(text_list)`: \n",
        "  - Defines a function `text_split` that takes a single argument `text_list`, which is expected to be a list of text strings. The function's purpose is to split each text string in this list into smaller chunks.\n",
        "\n",
        "- Inside `text_split(text_list)`:\n",
        "  - `text_splitter = RecursiveCharacterTextSplitter(chunk_size=500, chunk_overlap=20)`:\n",
        "    - Creates an instance of the `RecursiveCharacterTextSplitter` class with specified `chunk_size` and `chunk_overlap` parameters. This text splitter is configured to split text into chunks of up to 500 characters, with a 20-character overlap between consecutive chunks. The overlap ensures continuity in context or information that might be split across chunk boundaries.\n",
        "\n",
        "  - `text_chunks = []`:\n",
        "    - Initializes an empty list `text_chunks` that will be used to store all the text chunks generated from splitting the texts in `text_list`.\n",
        "\n",
        "  - `for text in text_list`:\n",
        "    - Starts a loop over each text string in `text_list`.\n",
        "\n",
        "  - `chunks = text_splitter.split_text(text)`:\n",
        "    - For each text string in the loop, uses the `text_splitter`'s `split_text` method to split the text into smaller chunks based on the configured `chunk_size` and `chunk_overlap`. The resulting chunks for this particular text string are stored in the variable `chunks`.\n",
        "\n",
        "  - `text_chunks.extend(chunks)`:\n",
        "    - Adds the chunks generated from the current text string to the `text_chunks` list. The `extend` method is used to add elements from `chunks` to the end of `text_chunks`, flattening the list of chunks into `text_chunks` instead of nesting lists.\n",
        "\n",
        "- `return text_chunks`:\n",
        "  - After all text strings in `text_list` have been processed and their corresponding chunks added to `text_chunks`, the function returns `text_chunks`. This returned value is a list containing the smaller text chunks generated from all the text strings in the initial `text_list`.\n",
        "\n",
        "This function is particularly useful for preparing large texts for processing by models with character or token limits, ensuring each chunk can be processed individually while maintaining a semblance of context through the overlap.\n"
      ]
    },
    {
      "cell_type": "code",
      "execution_count": 67,
      "metadata": {
        "id": "ySK39HNlGumv"
      },
      "outputs": [],
      "source": [
        "from langchain_community.embeddings import HuggingFaceBgeEmbeddings"
      ]
    },
    {
      "cell_type": "code",
      "execution_count": 68,
      "metadata": {
        "id": "r_ZrzBCvFjUq"
      },
      "outputs": [],
      "source": [
        "#download embedding model\n",
        "def download_hugging_face_embeddings():\n",
        "    model_name = \"BAAI/bge-base-en-v1.5\"\n",
        "    model_kwargs = {\"device\": \"cuda\"}\n",
        "    encode_kwargs = {\"normalize_embeddings\": True}\n",
        "    embeddings = HuggingFaceBgeEmbeddings(\n",
        "    model_name=model_name, model_kwargs=model_kwargs, encode_kwargs=encode_kwargs)\n",
        "    return embeddings\n"
      ]
    },
    {
      "cell_type": "code",
      "execution_count": 69,
      "metadata": {
        "id": "Zxil_PG6FjUq"
      },
      "outputs": [],
      "source": [
        "embeddings= download_hugging_face_embeddings()"
      ]
    },
    {
      "cell_type": "code",
      "execution_count": 70,
      "metadata": {
        "id": "oJYlbtuzFjUr"
      },
      "outputs": [],
      "source": [
        "pinecone.init(api_key=PINECONE_API_KEY, environment=PINECONE_API_ENV)\n",
        "index = \"privacy\"\n",
        "docsearch = Pinecone.from_texts(text_chunks, embeddings, index_name=index)\n"
      ]
    },
    {
      "cell_type": "markdown",
      "metadata": {},
      "source": [
        "- **Initialize Pinecone**:\n",
        "  - `pinecone.init(api_key=PINECONE_API_KEY, environment=PINECONE_API_ENV)`\n",
        "    - Initializes the Pinecone service with the user's API key (`PINECONE_API_KEY`) and specifies the environment (`PINECONE_API_ENV`). This step is essential for setting up a secure connection to Pinecone's vector database services.\n",
        "\n",
        "- **Define the Index Name**:\n",
        "  - `index = \"privacy\"`\n",
        "    - Sets up an index named \"privacy\" in Pinecone. An index in Pinecone serves as a container for storing and querying vectorized data. The choice of \"privacy\" as the index name suggests a focus on privacy-related data applications.\n",
        "\n",
        "- **Vectorize Text and Update Index**:\n",
        "  - `docsearch = Pinecone.from_texts(text_chunks, embeddings, index_name=index)`\n",
        "    - Utilizes Pinecone's `from_texts` method to convert a list of text chunks (`text_chunks`) into vector embeddings using a specified embeddings model (`embeddings`). These embeddings are then stored or updated in the Pinecone index specified by `index_name=index`, enabling advanced search and similarity operations on the text data.\n",
        "    - This process transforms textual information into a format that can be semantically searched or compared, leveraging the power of machine learning models to understand and find relevant content based on context and meaning rather than just keyword matches.\n",
        "\n"
      ]
    },
    {
      "cell_type": "code",
      "execution_count": 71,
      "metadata": {
        "colab": {
          "base_uri": "https://localhost:8080/"
        },
        "id": "ut_2pN5sFjUr",
        "outputId": "24c2722a-89b0-422a-fa51-5c1d10518091"
      },
      "outputs": [
        {
          "name": "stdout",
          "output_type": "stream",
          "text": [
            "Results [Document(page_content='that, we examine a few identified issues of varying severities that need to be brought up and paid\\r\\nmore attention to. (The findings are categorized in the above table.) Additional information can be\\r\\nfound in the next subsection, and the detailed discussions are in Section 4.\\r\\n8/16 PeckShield Audit Report #: 2021-283Public\\r\\n2.2 Key Findings\\r\\nOverall, a minor BEP20 compliance issue was found and our detailed checklist can be found in'), Document(page_content='far, we have identiﬁed a list of potential issues: some of them involve subtle corner cases that might\\r\\nnot be previously thought of, while others refer to unusual interactions among multiple contracts.\\r\\nFor each uncovered issue, we have therefore developed test cases for reasoning, reproduction, and/or\\r\\nveriﬁcation. After further analysis and internal discussion, we determined a few issues of varying'), Document(page_content='Informational 0\\r\\nTotal 7\\r\\nWe have so far identiﬁed a list of potential issues: some of them involve subtle corner cases\\r\\nthat might not be previously thought of, while others refer to unusual interactions among multiple\\r\\ncontracts. For each uncovered issue, we have therefore developed test cases for reasoning, reproduc-\\r\\ntion, and/or veriﬁcation. After further analysis and internal discussion, we determined a few issues')]\n"
          ]
        }
      ],
      "source": [
        "docsearch=Pinecone.from_existing_index(index,embeddings)\n",
        "query = \"What common compliance issues are identified in the dataset, and how frequently do they occur?\"\n",
        "docs= docsearch.similarity_search(query,k=3)\n",
        "\n",
        "print(\"Results\",docs)"
      ]
    },
    {
      "cell_type": "markdown",
      "metadata": {},
      "source": [
        "- **Access an Existing Pinecone Index**:\n",
        "  - `docsearch = Pinecone.from_existing_index(index, embeddings)`\n",
        "    - This line initializes a `docsearch` object by accessing an existing Pinecone index named `index`, utilizing the `embeddings` model specified. This setup allows for the retrieval and similarity search of vectorized documents within the specified index, leveraging the precomputed embeddings.\n",
        "\n",
        "- **Define a Query**:\n",
        "  - `query = \"What common compliance issues are identified in the dataset, and how frequently do they occur?\"`\n",
        "    - Sets a query string asking about common compliance issues within the dataset and their frequency. This query is intended to be analyzed and matched against the documents in the Pinecone index to find relevant answers or documents.\n",
        "\n",
        "- **Perform a Similarity Search**:\n",
        "  - `docs = docsearch.similarity_search(query, k=3)`\n",
        "    - Executes a similarity search using the `docsearch` object. It searches for documents that are most similar to the query, limited to the top 3 matches (`k=3`). This function uses the semantic understanding of the embeddings to find documents that best match the query's intent and content.\n",
        "\n",
        "- **Display Results**:\n",
        "  - `print(\"Results\", docs)`\n",
        "    - Prints the results of the similarity search to the console. The variable `docs` contains information about the top 3 documents that were found to be most similar to the input query, potentially including their identifiers, similarity scores, and other relevant metadata.\n",
        "\n"
      ]
    },
    {
      "cell_type": "code",
      "execution_count": 72,
      "metadata": {
        "id": "4okOPD3qFjUr"
      },
      "outputs": [],
      "source": [
        "prompt_template=\"\"\"\n",
        "Use the following pieces of information to answer the user's question.\n",
        "If you don't know the answer, just say that you don't know, don't try to make up an answer.\n",
        "\n",
        "Context: {context}\n",
        "Question: {question}\n",
        "\n",
        "Only return the helpful answer below\n",
        "Helpful answer:\n",
        "\"\"\""
      ]
    },
    {
      "cell_type": "code",
      "execution_count": 73,
      "metadata": {
        "id": "fOkSyVrGFjUr"
      },
      "outputs": [],
      "source": [
        "PROMPT=PromptTemplate(template=prompt_template, input_variables=[\"context\", \"question\"])\n",
        "\n",
        "chain_type_kwargs={\"prompt\": PROMPT}"
      ]
    },
    {
      "cell_type": "code",
      "execution_count": 74,
      "metadata": {
        "id": "Av3AqInVFjUr"
      },
      "outputs": [],
      "source": [
        "model_path = 'model/llama-2-13b-chat.ggmlv3.q4_0.bin'\n",
        "\n",
        "llm = CTransformers(model=model_path,\n",
        "                    model_type=\"llama\",\n",
        "                    config={'max_new_tokens': 512,\n",
        "                            'temperature': 0.8})\n"
      ]
    },
    {
      "cell_type": "code",
      "execution_count": 75,
      "metadata": {
        "id": "jZzseiQTFjUr"
      },
      "outputs": [],
      "source": [
        "from langchain.chains import RetrievalQA\n",
        "\n",
        "qa = RetrievalQA.from_chain_type(\n",
        "    llm=llm,\n",
        "    chain_type=\"stuff\",\n",
        "    retriever=docsearch.as_retriever(search_kwargs={'k': 2}),\n",
        "    return_source_documents=True,\n",
        "    chain_type_kwargs={\"prompt\": PROMPT}\n",
        ")"
      ]
    },
    {
      "cell_type": "markdown",
      "metadata": {},
      "source": [
        "- **Setup RetrievalQA**:\n",
        "  - The snippet initializes an instance of the `RetrievalQA` class, which is designed for a retrieval-based question-answering system. This system combines document retrieval and question answering capabilities.\n",
        "\n",
        "- **Initialize with `from_chain_type` Method**:\n",
        "  - `qa = RetrievalQA.from_chain_type(...)`\n",
        "    - This method creates a `RetrievalQA` instance configured with specific components like a language model (`llm`), a retriever (`docsearch.as_retriever(...)`), and other parameters that define how the QA system operates.\n",
        "\n",
        "- **Components**:\n",
        "  - **Language Model (`llm`)**: Specifies the language model to use for generating answers. This model is configured separately (as shown in previous code snippets) and passed to the `RetrievalQA` system.\n",
        "  \n",
        "  - **Chain Type (`chain_type=\"stuff\"`)**: Indicates the type of QA chain to be used. The term \"stuff\" is a placeholder and should be replaced with a specific chain type relevant to the system's requirements, defining the interaction pattern between the retriever and the language model.\n",
        "  \n",
        "  - **Retriever Configuration**:\n",
        "    - `retriever=docsearch.as_retriever(search_kwargs={'k': 2})`\n",
        "      - Converts the `docsearch` object into a retriever suitable for the `RetrievalQA` system, with `search_kwargs={'k': 2}` indicating that the top 2 most relevant documents should be retrieved for each query. This is crucial for fetching contextually relevant documents that the language model will use to generate answers.\n",
        "  \n",
        "  - **Return Source Documents (`return_source_documents=True`)**: Configures the system to include the source documents along with the answers in the output. This is useful for verification or further analysis of the information provided in the responses.\n",
        "  \n",
        "  - **Chain Type Arguments (`chain_type_kwargs={\"prompt\": PROMPT}`)**: Allows for additional configuration specific to the chosen `chain_type`. Here, `{\"prompt\": PROMPT}` specifies a prompt that will be used by the system, which should be defined elsewhere in the code.\n",
        "  \n",
        "### Summary:\n",
        "This code snippet illustrates how to configure a RetrievalQA system using the `RetrievalQA.from_chain_type` method. The setup includes specifying a language model for answer generation, defining a document retriever for sourcing relevant context, and other options to tailor the system's behavior to specific needs, such as returning source documents and customizing prompts.\n"
      ]
    },
    {
      "cell_type": "code",
      "execution_count": 76,
      "metadata": {
        "id": "emsG_PmHFjUr",
        "outputId": "7321c50b-5ee5-4e08-877f-ff133b5cfbe2"
      },
      "outputs": [
        {
          "name": "stdout",
          "output_type": "stream",
          "text": [
            "Response: According to the scan results, the most common security vulnerabilities identified across the smart contracts are:\n",
            "\n",
            "1. Reentrancy\n",
            "2. Ownership Takeover\n",
            "3. Timestamp Dependence\n",
            "4. Gas Limit and Loops\n",
            "5. Transaction -Ordering Dependence\n",
            "6. Unchecked external call\n",
            "7. Unchecked math\n",
            "8. Unsafe type inference.\n",
            "\n",
            "Selected Chunks for Summarization:\n",
            "Chunk 1: www.hacken.io  \n",
            "We have scanned this smart contract for commonly known and \n",
            "more specific vulnerabilities. Here are some of the commonly \n",
            "known vulnerabilities that are considered:  \n",
            "Category  Check Item  \n",
            "Code review  ▪ Reentrancy  \n",
            "▪ Ownership Takeover  \n",
            "▪ Timestamp Dependence  \n",
            "▪ Gas Limit and Loops  \n",
            "▪ Transaction -Ordering Dependence  \n",
            "▪ Style guide violation  \n",
            "▪ EIP standards violation  \n",
            "▪ Unchecked external call  \n",
            "▪ Unchecked math  \n",
            "▪ Unsafe type inference\n",
            "Chunk 2: www.hacken.io  \n",
            "We have scanned this smart contract for commonly known and \n",
            "more specific vulnerabilities. Here are some of the commonly \n",
            "known vulnerabilities that are considered:  \n",
            "Category  Check Item  \n",
            "Code review  ▪ Reentrancy  \n",
            "▪ Ownership Takeover  \n",
            "▪ Timestamp Dependence  \n",
            "▪ Gas Limit and Loops  \n",
            "▪ Transaction -Ordering Dependence  \n",
            "▪ Style guide violation  \n",
            "▪ EIP standards violation  \n",
            "▪ Unchecked external call  \n",
            "▪ Unchecked math  \n",
            "▪ Unsafe type inference\n"
          ]
        }
      ],
      "source": [
        "import pandas as pd\n",
        "\n",
        "def log_qa_interaction():\n",
        "    user_input = input(\"Input Prompt: \")\n",
        "    result = qa({\"query\": user_input})\n",
        "    \n",
        "    print(\"Response:\", result[\"result\"])\n",
        "    \n",
        "    chunks_text = []  \n",
        "    \n",
        "    if 'source_documents' in result:\n",
        "        print(\"\\nSelected Chunks for Summarization:\")\n",
        "        for idx, doc in enumerate(result['source_documents'], start=1):\n",
        "            document_text = getattr(doc, 'page_content', \"Attribute 'page_content' not found\")\n",
        "            print(f\"Chunk {idx}: {document_text}\")\n",
        "            chunks_text.append(document_text) \n",
        "    \n",
        "\n",
        "    append_to_csv(user_input, result[\"result\"], chunks_text)\n",
        "\n",
        "def append_to_csv(question, answer, chunks, file_path='QA_log.csv'):\n",
        "    new_data = pd.DataFrame({\n",
        "        'Question': [question], \n",
        "        'Answer': [answer],\n",
        "        **{f'Chunk {i+1}': [chunks[i] if i < len(chunks) else ''] for i in range(2)}\n",
        "    })\n",
        "    \n",
        "    try:\n",
        "        existing_data = pd.read_csv(file_path)\n",
        "        updated_data = pd.concat([existing_data, new_data], ignore_index=True)\n",
        "    except FileNotFoundError:\n",
        "        updated_data = new_data\n",
        "    \n",
        "    updated_data.to_csv(file_path, index=False)\n",
        "\n",
        "log_qa_interaction()\n"
      ]
    },
    {
      "cell_type": "code",
      "execution_count": 78,
      "metadata": {},
      "outputs": [
        {
          "name": "stderr",
          "output_type": "stream",
          "text": [
            "C:\\Users\\navi\\AppData\\Local\\Temp\\ipykernel_43852\\672482719.py:32: FutureWarning: The behavior of DataFrame concatenation with empty or all-NA entries is deprecated. In a future version, this will no longer exclude empty or all-NA columns when determining the result dtypes. To retain the old behavior, exclude the relevant entries before the concat operation.\n",
            "  similarities_df = pd.concat([similarities_df, new_row_df], ignore_index=True)\n"
          ]
        },
        {
          "data": {
            "image/png": "[encoded data removed]",
            "text/plain": [
              "<Figure size 1000x600 with 1 Axes>"
            ]
          },
          "metadata": {},
          "output_type": "display_data"
        }
      ],
      "source": [
        "import pandas as pd\n",
        "from sklearn.feature_extraction.text import TfidfVectorizer\n",
        "from sklearn.metrics.pairwise import cosine_similarity\n",
        "import matplotlib.pyplot as plt\n",
        "\n",
        "\n",
        "df = pd.read_csv('QA_log.csv')\n",
        "\n",
        "\n",
        "similarities_df = pd.DataFrame(columns=['Entry', 'Chunk 1 Similarity', 'Chunk 2 Similarity'])\n",
        "\n",
        "\n",
        "vectorizer = TfidfVectorizer()\n",
        "\n",
        "for index, row in df.iterrows():\n",
        "    response = row['Answer']\n",
        "    chunk1 = row['Chunk 1']\n",
        "    chunk2 = row['Chunk 2']\n",
        "    \n",
        "\n",
        "    combined_texts = [response, chunk1, chunk2]\n",
        "    \n",
        "\n",
        "    tfidf_matrix = vectorizer.fit_transform(combined_texts)\n",
        "\n",
        "    similarity_chunk1 = cosine_similarity(tfidf_matrix[0:1], tfidf_matrix[1:2])[0][0]\n",
        "    similarity_chunk2 = cosine_similarity(tfidf_matrix[0:1], tfidf_matrix[2:3])[0][0]\n",
        "    \n",
        "    new_row = {'Entry': index + 1, 'Chunk 1 Similarity': similarity_chunk1, 'Chunk 2 Similarity': similarity_chunk2}\n",
        "    new_row_df = pd.DataFrame([new_row])\n",
        "    \n",
        "    similarities_df = pd.concat([similarities_df, new_row_df], ignore_index=True)\n",
        "\n",
        "plt.figure(figsize=(10, 6))\n",
        "plt.plot(similarities_df['Entry'], similarities_df['Chunk 1 Similarity'], label='Chunk 1 Similarity', marker='o')\n",
        "plt.plot(similarities_df['Entry'], similarities_df['Chunk 2 Similarity'], label='Chunk 2 Similarity', marker='x')\n",
        "plt.xlabel('Entry')\n",
        "plt.ylabel('Cosine Similarity with Response')\n",
        "plt.title('Similarity of Chunks to Response for Each Entry')\n",
        "plt.legend()\n",
        "plt.xticks(range(1, len(similarities_df) + 1))\n",
        "plt.show()\n"
      ]
    },
    {
      "cell_type": "markdown",
      "metadata": {},
      "source": [
        "## BAAI General Embeddings (BGE) Model\n",
        "\n",
        "### Model Identifier\n",
        "- **Name**: `BAAI/bge-base-en-v1.5`\n",
        "\n",
        "### Organization\n",
        "- **Developed by**: Beijing Academy of Artificial Intelligence (BAAI)\n",
        "\n",
        "### Model Details\n",
        "- **Type**: Base General Embeddings Model for English\n",
        "- **Version**: 1.5\n",
        "\n",
        "### Purpose and Applications\n",
        "- Designed to provide semantic vector representations of English text, this model is a versatile tool for a wide range of Natural Language Processing (NLP) tasks including, but not limited to:\n",
        "  - Text Similarity Analysis\n",
        "  - Text Classification\n",
        "\n",
        "### Key Features\n",
        "- **Semantic Understanding**: Captures the nuances and semantic relationships within English text.\n",
        "- **Versatile Applications**: Suitable for various NLP tasks, enhancing the capability of applications to understand and process English language effectively.\n",
        "\n",
        "### Risks, Attacks, and Bias\n",
        "- **Data Bias**: Embedding models can inherit and amplify biases present in their training data, potentially leading to skewed or unfair outcomes.\n",
        "- **Adversarial Attacks**: Models might be vulnerable to adversarial attacks, where slightly altered input can lead to significantly different outputs, undermining model reliability.\n",
        "- **Privacy Risks**: If trained on sensitive data, embeddings might inadvertently reveal personal information.\n",
        "\n",
        "### Overcoming Challenges\n",
        "- **Bias Mitigation**: Employ bias detection and mitigation strategies during model training and before deployment. Regularly update models with more diverse and representative training data.\n",
        "- **Robustness Testing**: Implement adversarial testing and robustness checks to identify and mitigate vulnerabilities to attacks.\n",
        "- **Privacy Preservation**: Use techniques such as differential privacy during training to minimize the risk of exposing sensitive information through the model's outputs.\n",
        "\n",
        "### Use Case\n",
        "Ideal for developers and researchers working on projects that require deep understanding of text data, such as recommendation systems, content categorization, and sentiment analysis.\n",
        "\n",
        "### Conclusion\n",
        "While `BAAI/bge-base-en-v1.5` offers advanced capabilities for processing and understanding English text, awareness and proactive measures are essential to address its potential biases, vulnerabilities, and ethical considerations. Through continuous improvement and adherence to best practices in AI ethics and security, users can harness the power of this model while minimizing risks.\n"
      ]
    },
    {
      "cell_type": "markdown",
      "metadata": {},
      "source": [
        "## llama2 13B LLM Modal card\n",
        "\n",
        "\n",
        "\n",
        "- **Model Path**: `model/llama-2-13b-chat.ggmlv3.q4_0.bin`\n",
        "  - **Details**: Specifies the file path to the LLaMA model, indicating a specific version optimized for chat functionalities.\n",
        "\n",
        "- **Model Instantiation**:\n",
        "  - `llm = CTransformers(model=model_path, model_type=\"llama\", config={'max_new_tokens': 512, 'temperature': 0.8})`\n",
        "    - **Class Used**: Utilizes `CTransformers` for initializing the LLaMA model, emphasizing its application for natural language tasks.\n",
        "\n",
        "- **Configuration Parameters**:\n",
        "  - `max_new_tokens`: 512\n",
        "    - Controls the maximum length of generated text to ensure concise and relevant outputs.\n",
        "  - `temperature`: 0.8\n",
        "    - Influences the variability of the model's responses, with 0.8 aiming for a balance between creativity and accuracy.\n",
        "\n",
        "### Key Features:\n",
        "- **Advanced Text Generation**: Leverages the LLaMA model for producing contextually appropriate, high-quality text.\n",
        "- **Customizable Outputs**: Offers flexibility in adjusting response generation to meet specific needs through configurable parameters.\n",
        "\n",
        "### Use Cases:\n",
        "Ideal for integrating into conversational AI platforms, customer support bots, and any application requiring nuanced, human-like text generation.\n",
        "\n",
        "### Risks Specific to LLaMA 2 Model:\n",
        "\n",
        "- **Amplification of Pre-existing Biases**: The LLaMA 2 model, like other large language models, is trained on vast datasets derived from the internet and other sources. These datasets can contain biases, stereotypes, and inaccuracies which the model may inadvertently learn and amplify in its outputs. This includes biases related to gender, race, ethnicity, and more.\n",
        "\n",
        "- **Generation of Misinformation**: Given its ability to generate convincing text, LLaMA 2 poses a risk of creating and spreading misinformation or disinformation if not carefully monitored and controlled. This can be particularly concerning in contexts like news generation, educational content, or public information dissemination.\n",
        "\n",
        "- **Privacy Concerns**: The model could potentially generate outputs that include or infer private, sensitive, or identifiable information based on its training data. This risk necessitates stringent data handling and privacy measures.\n",
        "\n",
        "- **Dependency and Overreliance**: Overreliance on the LLaMA 2 model for decision-making or content creation could lead to a degradation of human expertise and critical thinking skills. It's crucial to maintain a balance between automated outputs and human judgment.\n",
        "\n",
        "- **Exposure to Malicious Inputs**: Large language models like LLaMA 2 can be vulnerable to specially crafted inputs designed to manipulate the model's outputs. Attackers might exploit this by feeding the model with misleading context or questions, aiming to extract sensitive information embedded in the model's parameters or to generate harmful content.\n",
        "\n",
        "- **Data Poisoning and Model Inversion Attacks**: LLaMA 2, being trained on vast datasets, might inadvertently learn from maliciously crafted data, leading to biased or inappropriate outputs. Model inversion attacks, where attackers infer sensitive training data information, are a concern for any model that has not been explicitly secured against such vulnerabilities.\n",
        "\n",
        "- **Automated Propagation of Misinformation**: Given its capacity for generating convincing text, LLaMA 2 could be used to create and spread misinformation at scale, posing significant challenges to information integrity and trust online.\n",
        "\n",
        "\n",
        "### Strategies for Mitigating LLaMA 2 Specific Risks:\n",
        "\n",
        "- **Bias Mitigation and Fairness**: Regularly perform bias audits and fairness assessments on the model's outputs. Employ techniques like data augmentation, bias correction, and fine-tuning with balanced datasets to minimize biases.\n",
        "\n",
        "- **Content Moderation and Fact-Checking**: Implement robust content moderation systems and fact-checking protocols, especially for applications involving content generation for public consumption. This helps prevent the spread of misinformation.\n",
        "\n",
        "- **Privacy Protection Measures**: Ensure that any data used for training or fine-tuning the model adheres to privacy laws and guidelines. Techniques like differential privacy or data anonymization can be employed to protect individuals' information.\n",
        "\n",
        "- **Complementary Human Oversight**: Establish systems for human oversight and review of the model's outputs, especially in critical applications. Encourage a complementary approach where the model assists human decision-making rather than replacing it.\n",
        "\n",
        "- **Robust Input Validation and Filtering**: Implementing advanced mechanisms to detect and neutralize malicious inputs can protect LLaMA 2 from being exploited for generating harmful content or revealing sensitive information.\n",
        "\n",
        "- **Differential Privacy and Federated Learning**: To mitigate risks associated with data poisoning and model inversion attacks, employing training techniques like differential privacy, which adds noise to the training data, and federated learning, which trains models on decentralized data, can enhance security.\n",
        "\n",
        "- **Content Monitoring and Misinformation Mitigation**: Developing systems to monitor the content generated by LLaMA 2 for signs of misinformation and employing fact-checking protocols can help curb the spread of false information.\n",
        "\n",
        "- **Ethical and Transparent Model Development**: Engaging in ethical model development practices, including transparency about the model's training data and limitations, can foster trust and responsible use. Ongoing research into the model's potential biases and vulnerabilities is essential for timely mitigation strategies.\n",
        "\n",
        "### Conclusion:\n",
        "The LLaMA 2 model, while offering advanced capabilities for natural language understanding and generation, comes with specific risks and potential for misuse. Addressing these challenges requires a multi-faceted approach, combining technical safeguards, ethical guidelines, and continuous vigilance to ensure its benefits are maximized while minimizing harm.\n"
      ]
    }
  ],
  "metadata": {
    "accelerator": "GPU",
    "colab": {
      "gpuType": "T4",
      "provenance": []
    },
    "kernelspec": {
      "display_name": "Python 3",
      "name": "python3"
    },
    "language_info": {
      "codemirror_mode": {
        "name": "ipython",
        "version": 3
      },
      "file_extension": ".py",
      "mimetype": "text/x-python",
      "name": "python",
      "nbconvert_exporter": "python",
      "pygments_lexer": "ipython3",
      "version": "3.11.5"
    }
  },
  "nbformat": 4,
  "nbformat_minor": 0
}
